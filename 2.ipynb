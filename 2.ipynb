{
 "cells": [
  {
   "cell_type": "markdown",
   "metadata": {},
   "source": [
    "# Условия\n",
    "\n",
    "2 лаба: \n",
    "Аристова, Завьялова, Лобанов, II.10.6 , выбрать вариант самостоятельно. \n",
    "Решить СЛАУ .\n",
    "##### Прямыми методами:\n",
    "- [x] Методом Гаусса с выбором главного элемента\n",
    "- [x] LU-разложением (если возможно) \n",
    "\n",
    "##### Итерационными методами: \n",
    "- [x] Метод Зейделя \n",
    "- [ ] Метод Якоби\n",
    "- [ ] Метод верхней релаксации \n",
    "\n",
    "Чтобы показать, что найденное решение true \n",
    "- [x] для прямых методов: подставить решение в исходную систему и получить невязку ~ 0. \n",
    "- [ ] для итерационных методов: показать убывание невязки (график изменения невязки от числа итераций) . \n",
    "\n",
    "Дедлайн к 11 октября."
   ]
  },
  {
   "cell_type": "code",
   "execution_count": 230,
   "metadata": {},
   "outputs": [],
   "source": [
    "import numpy as np\n",
    "import matplotlib.pyplot as plt "
   ]
  },
  {
   "cell_type": "markdown",
   "metadata": {},
   "source": [
    "### Матрица СЛАУ (вариант \"г\")"
   ]
  },
  {
   "cell_type": "code",
   "execution_count": 231,
   "metadata": {},
   "outputs": [
    {
     "name": "stdout",
     "output_type": "stream",
     "text": [
      "Shapre of matrix = (100, 101)\n"
     ]
    },
    {
     "data": {
      "text/plain": [
       "array([[  1.,   1.,   1., ...,   1.,   1., 100.],\n",
       "       [  1.,  10.,   1., ...,   0.,   0.,  99.],\n",
       "       [  0.,   1.,  10., ...,   0.,   0.,  98.],\n",
       "       ...,\n",
       "       [  0.,   0.,   0., ...,   1.,   0.,   3.],\n",
       "       [  0.,   0.,   0., ...,  10.,   1.,   2.],\n",
       "       [  0.,   0.,   0., ...,   1.,   1.,   1.]])"
      ]
     },
     "execution_count": 231,
     "metadata": {},
     "output_type": "execute_result"
    }
   ],
   "source": [
    "original_matrix = np.array([[0.0] * 101] * 100)\n",
    "print(\"Shapre of matrix =\", np.shape(original_matrix))\n",
    "\n",
    "for i in range(100):\n",
    "    original_matrix[0][i] = 1\n",
    "\n",
    "for i in range(100):\n",
    "    original_matrix[i][100] = 100-i\n",
    "\n",
    "for i in range(1, 99):\n",
    "    original_matrix[i][i-1] = 1\n",
    "    original_matrix[i][i] = 10\n",
    "    original_matrix[i][i+1] = 1\n",
    "\n",
    "original_matrix[99][98] = 1\n",
    "original_matrix[99][99] = 1\n",
    "\n",
    "original_matrix"
   ]
  },
  {
   "cell_type": "markdown",
   "metadata": {},
   "source": [
    "### Метод Гаусса с выбором главного элемента"
   ]
  },
  {
   "cell_type": "code",
   "execution_count": 232,
   "metadata": {},
   "outputs": [],
   "source": [
    "def FindLineWithMaxElemBelowCurrentLine(matrix, line):\n",
    "    max_elem = 0\n",
    "    max_line = 0\n",
    "    for i in range(line, len(matrix)):\n",
    "        for j in range(matrix[i]):\n",
    "            if abs(matrix[i][j]) > max_elem:\n",
    "                max_elem = abs(matrix[i][j])\n",
    "                max_line = i\n",
    "    return max_line\n",
    "\n",
    "def ZeroingLinesBelowCurrentLine(matrix, line):\n",
    "    if matrix[line][line] == 0:\n",
    "        return\n",
    "    for line_below in range(line + 1, len(matrix)):\n",
    "        k = matrix[line_below][line] / matrix[line][line]\n",
    "        matrix[line_below] -= k * matrix[line]\n",
    "\n",
    "def ZeroingLinesAboveCurrentLine(matrix, line):\n",
    "    if matrix[line][line] == 0:\n",
    "        return\n",
    "    for line_above in range(line - 1, -1, -1):\n",
    "        k = matrix[line_above][line] / matrix[line][line]\n",
    "        matrix[line_above] -= k * matrix[line]\n",
    "\n",
    "def ExtractSolutionFromNormalizedMatrix(matrix):\n",
    "    x = np.array([0.0] * (len(matrix[0]) - 1))\n",
    "    for line in range(len(matrix)):\n",
    "        if matrix[line][line] == 0:\n",
    "            if matrix[line][-1] != 0:\n",
    "                print(\"Нет решений\")\n",
    "                return []\n",
    "            x[line] = np.nan\n",
    "        else:\n",
    "            x[line] = matrix[line][-1] / matrix[line][line]\n",
    "    return x\n",
    "\n",
    "def GaussMethodWithMaxElement(matrix):\n",
    "    for line in range(len(matrix)):\n",
    "        ZeroingLinesBelowCurrentLine(matrix, line)\n",
    "    for line in range(len(matrix) - 1, -1, -1):\n",
    "        ZeroingLinesAboveCurrentLine(matrix, line)\n",
    "    return ExtractSolutionFromNormalizedMatrix(matrix)"
   ]
  },
  {
   "cell_type": "markdown",
   "metadata": {},
   "source": [
    "### Тестирование метода"
   ]
  },
  {
   "cell_type": "code",
   "execution_count": 233,
   "metadata": {},
   "outputs": [
    {
     "name": "stdout",
     "output_type": "stream",
     "text": [
      "[[1. 2. 3. 7.]\n",
      " [2. 1. 3. 8.]\n",
      " [1. 1. 1. 4.]]\n",
      "[2. 1. 1.]\n"
     ]
    }
   ],
   "source": [
    "test_matrix = np.array([[1.0, 2.0, 3.0, 7.0], [2.0, 1.0, 3.0, 8.0], [1, 1, 1, 4]])\n",
    "\n",
    "print(test_matrix)\n",
    "GaussMethodWithMaxElement(test_matrix)\n",
    "print(GaussMethodWithMaxElement(test_matrix))"
   ]
  },
  {
   "cell_type": "markdown",
   "metadata": {},
   "source": [
    "### Решение задачи"
   ]
  },
  {
   "cell_type": "code",
   "execution_count": 234,
   "metadata": {},
   "outputs": [
    {
     "name": "stdout",
     "output_type": "stream",
     "text": [
      "Решение:  [-3.45745028e+02  4.40191782e+01  4.55324589e+00  8.44836296e+00\n",
      "  7.96312452e+00  7.92039185e+00  7.83295701e+00  7.75003802e+00\n",
      "  7.66666283e+00  7.58333372e+00  7.49999996e+00  7.41666667e+00\n",
      "  7.33333333e+00  7.25000000e+00  7.16666667e+00  7.08333333e+00\n",
      "  7.00000000e+00  6.91666667e+00  6.83333333e+00  6.75000000e+00\n",
      "  6.66666667e+00  6.58333333e+00  6.50000000e+00  6.41666667e+00\n",
      "  6.33333333e+00  6.25000000e+00  6.16666667e+00  6.08333333e+00\n",
      "  6.00000000e+00  5.91666667e+00  5.83333333e+00  5.75000000e+00\n",
      "  5.66666667e+00  5.58333333e+00  5.50000000e+00  5.41666667e+00\n",
      "  5.33333333e+00  5.25000000e+00  5.16666667e+00  5.08333333e+00\n",
      "  5.00000000e+00  4.91666667e+00  4.83333333e+00  4.75000000e+00\n",
      "  4.66666667e+00  4.58333333e+00  4.50000000e+00  4.41666667e+00\n",
      "  4.33333333e+00  4.25000000e+00  4.16666667e+00  4.08333333e+00\n",
      "  4.00000000e+00  3.91666667e+00  3.83333333e+00  3.75000000e+00\n",
      "  3.66666667e+00  3.58333333e+00  3.50000000e+00  3.41666667e+00\n",
      "  3.33333333e+00  3.25000000e+00  3.16666667e+00  3.08333333e+00\n",
      "  3.00000000e+00  2.91666667e+00  2.83333333e+00  2.75000000e+00\n",
      "  2.66666667e+00  2.58333333e+00  2.50000000e+00  2.41666667e+00\n",
      "  2.33333333e+00  2.25000000e+00  2.16666667e+00  2.08333333e+00\n",
      "  2.00000000e+00  1.91666667e+00  1.83333333e+00  1.75000000e+00\n",
      "  1.66666667e+00  1.58333333e+00  1.50000000e+00  1.41666667e+00\n",
      "  1.33333333e+00  1.25000000e+00  1.16666667e+00  1.08333333e+00\n",
      "  1.00000000e+00  9.16666667e-01  8.33333332e-01  7.50000009e-01\n",
      "  6.66666577e-01  5.83334220e-01  4.99991223e-01  4.16753553e-01\n",
      "  3.32473251e-01  2.58513941e-01  8.23873399e-02  9.17612660e-01]\n"
     ]
    }
   ],
   "source": [
    "print(\"Решение: \", GaussMethodWithMaxElement(original_matrix.copy()))"
   ]
  },
  {
   "cell_type": "markdown",
   "metadata": {},
   "source": [
    "### Метод LU-разложения"
   ]
  },
  {
   "cell_type": "code",
   "execution_count": 235,
   "metadata": {},
   "outputs": [],
   "source": [
    "def LUDecomposition(matrix):\n",
    "    L = np.array([[0.0] * len(matrix)] * len(matrix))\n",
    "    U = L.copy()\n",
    "\n",
    "    for i in range(len(matrix)):\n",
    "        L[i][i] = 1\n",
    "\n",
    "    for i in range(len(matrix)):\n",
    "        for j in range(len(matrix)):\n",
    "            if i <= j:\n",
    "                sum = 0.0\n",
    "                for k in range(i):\n",
    "                    sum += L[i][k] * U[k][j]\n",
    "                U[i][j] = matrix[i][j] - sum\n",
    "            if i > j:\n",
    "                sum = 0.0\n",
    "                for k in range(j):\n",
    "                    sum += L[i][k] * U[k][j]\n",
    "                if U[j][j] == 0:\n",
    "                    L[i][j] = np.nan\n",
    "                    print(\"Error! Can't do LU-decomposition\")\n",
    "                    return\n",
    "                L[i][j] = (matrix[i][j] - sum) / U[j][j]\n",
    "\n",
    "    y = np.array([0.0] * len(matrix))\n",
    "    for i in range(len(matrix)):\n",
    "        y[i] = (matrix[i][-1] - np.sum(L[i] * y)) / L[i][i]\n",
    "\n",
    "    x = np.array([0.0] * len(matrix))\n",
    "    for i in range(len(matrix) - 1, -1, -1):\n",
    "        x[i] = (y[i] - np.sum(U[i] * x)) / U[i][i]\n",
    "    return x"
   ]
  },
  {
   "cell_type": "markdown",
   "metadata": {},
   "source": [
    "### Тестирование метода"
   ]
  },
  {
   "cell_type": "code",
   "execution_count": 236,
   "metadata": {},
   "outputs": [
    {
     "name": "stdout",
     "output_type": "stream",
     "text": [
      "[2. 1. 1.]\n"
     ]
    }
   ],
   "source": [
    "test_matrix = np.array([[1.0, 2.0, 3.0, 7.0], [2.0, 1.0, 3.0, 8.0], [1, 1, 1, 4]])\n",
    "print(LUDecomposition(test_matrix))"
   ]
  },
  {
   "cell_type": "markdown",
   "metadata": {},
   "source": [
    "### Решение задачи"
   ]
  },
  {
   "cell_type": "code",
   "execution_count": 237,
   "metadata": {},
   "outputs": [
    {
     "name": "stdout",
     "output_type": "stream",
     "text": [
      "[-3.45745028e+02  4.40191782e+01  4.55324589e+00  8.44836296e+00\n",
      "  7.96312452e+00  7.92039185e+00  7.83295701e+00  7.75003802e+00\n",
      "  7.66666283e+00  7.58333372e+00  7.49999996e+00  7.41666667e+00\n",
      "  7.33333333e+00  7.25000000e+00  7.16666667e+00  7.08333333e+00\n",
      "  7.00000000e+00  6.91666667e+00  6.83333333e+00  6.75000000e+00\n",
      "  6.66666667e+00  6.58333333e+00  6.50000000e+00  6.41666667e+00\n",
      "  6.33333333e+00  6.25000000e+00  6.16666667e+00  6.08333333e+00\n",
      "  6.00000000e+00  5.91666667e+00  5.83333333e+00  5.75000000e+00\n",
      "  5.66666667e+00  5.58333333e+00  5.50000000e+00  5.41666667e+00\n",
      "  5.33333333e+00  5.25000000e+00  5.16666667e+00  5.08333333e+00\n",
      "  5.00000000e+00  4.91666667e+00  4.83333333e+00  4.75000000e+00\n",
      "  4.66666667e+00  4.58333333e+00  4.50000000e+00  4.41666667e+00\n",
      "  4.33333333e+00  4.25000000e+00  4.16666667e+00  4.08333333e+00\n",
      "  4.00000000e+00  3.91666667e+00  3.83333333e+00  3.75000000e+00\n",
      "  3.66666667e+00  3.58333333e+00  3.50000000e+00  3.41666667e+00\n",
      "  3.33333333e+00  3.25000000e+00  3.16666667e+00  3.08333333e+00\n",
      "  3.00000000e+00  2.91666667e+00  2.83333333e+00  2.75000000e+00\n",
      "  2.66666667e+00  2.58333333e+00  2.50000000e+00  2.41666667e+00\n",
      "  2.33333333e+00  2.25000000e+00  2.16666667e+00  2.08333333e+00\n",
      "  2.00000000e+00  1.91666667e+00  1.83333333e+00  1.75000000e+00\n",
      "  1.66666667e+00  1.58333333e+00  1.50000000e+00  1.41666667e+00\n",
      "  1.33333333e+00  1.25000000e+00  1.16666667e+00  1.08333333e+00\n",
      "  1.00000000e+00  9.16666667e-01  8.33333332e-01  7.50000009e-01\n",
      "  6.66666577e-01  5.83334220e-01  4.99991223e-01  4.16753553e-01\n",
      "  3.32473251e-01  2.58513941e-01  8.23873399e-02  9.17612660e-01]\n"
     ]
    }
   ],
   "source": [
    "print(LUDecomposition(original_matrix.copy()))"
   ]
  },
  {
   "cell_type": "markdown",
   "metadata": {},
   "source": [
    "### Невязка"
   ]
  },
  {
   "cell_type": "code",
   "execution_count": 238,
   "metadata": {},
   "outputs": [],
   "source": [
    "def Discrepancy(matrix, x):   # Невязка\n",
    "    y = np.array([0.0] * len(matrix))\n",
    "    for i in range(len(matrix)):\n",
    "        y[i] = np.matmul(matrix[i][:-1], x) - matrix[i][-1]\n",
    "    return y"
   ]
  },
  {
   "cell_type": "markdown",
   "metadata": {},
   "source": [
    "### Рассчет невязки"
   ]
  },
  {
   "cell_type": "code",
   "execution_count": 239,
   "metadata": {},
   "outputs": [
    {
     "name": "stdout",
     "output_type": "stream",
     "text": [
      "Test:\n",
      "[0. 0. 0.]\n",
      "Невязка в задаче методом Гаусса:\n",
      "[ 5.68434189e-14  0.00000000e+00  0.00000000e+00  0.00000000e+00\n",
      "  1.42108547e-14  0.00000000e+00 -1.42108547e-14  0.00000000e+00\n",
      " -1.42108547e-14  0.00000000e+00  0.00000000e+00  0.00000000e+00\n",
      "  0.00000000e+00 -1.42108547e-14  0.00000000e+00  0.00000000e+00\n",
      "  0.00000000e+00 -1.42108547e-14  0.00000000e+00 -1.42108547e-14\n",
      "  0.00000000e+00  1.42108547e-14  1.42108547e-14  0.00000000e+00\n",
      "  1.42108547e-14  0.00000000e+00  0.00000000e+00  0.00000000e+00\n",
      "  0.00000000e+00  0.00000000e+00  0.00000000e+00  0.00000000e+00\n",
      "  0.00000000e+00  1.42108547e-14  0.00000000e+00  0.00000000e+00\n",
      "  0.00000000e+00  7.10542736e-15 -7.10542736e-15  7.10542736e-15\n",
      "  0.00000000e+00  0.00000000e+00  0.00000000e+00  7.10542736e-15\n",
      " -7.10542736e-15  1.42108547e-14  7.10542736e-15  7.10542736e-15\n",
      "  0.00000000e+00  0.00000000e+00  0.00000000e+00  0.00000000e+00\n",
      "  0.00000000e+00  0.00000000e+00  7.10542736e-15  7.10542736e-15\n",
      "  7.10542736e-15  0.00000000e+00  7.10542736e-15  0.00000000e+00\n",
      "  0.00000000e+00  7.10542736e-15  7.10542736e-15  0.00000000e+00\n",
      "  0.00000000e+00  0.00000000e+00  0.00000000e+00  0.00000000e+00\n",
      "  7.10542736e-15  3.55271368e-15  0.00000000e+00  7.10542736e-15\n",
      "  3.55271368e-15  0.00000000e+00  7.10542736e-15  3.55271368e-15\n",
      "  0.00000000e+00  3.55271368e-15  3.55271368e-15  0.00000000e+00\n",
      "  0.00000000e+00  3.55271368e-15  0.00000000e+00  0.00000000e+00\n",
      "  0.00000000e+00  0.00000000e+00  0.00000000e+00 -1.77635684e-15\n",
      "  3.55271368e-15  1.77635684e-15  0.00000000e+00  0.00000000e+00\n",
      "  1.77635684e-15  0.00000000e+00  0.00000000e+00  0.00000000e+00\n",
      "  0.00000000e+00  4.44089210e-16  0.00000000e+00  0.00000000e+00]\n",
      "Невязка в задаче методом LU-разложения:\n",
      "[ 0.00000000e+00  0.00000000e+00  0.00000000e+00  0.00000000e+00\n",
      "  0.00000000e+00  0.00000000e+00  0.00000000e+00  0.00000000e+00\n",
      "  0.00000000e+00  0.00000000e+00  0.00000000e+00  0.00000000e+00\n",
      "  0.00000000e+00  0.00000000e+00  0.00000000e+00  0.00000000e+00\n",
      "  0.00000000e+00  0.00000000e+00  0.00000000e+00  0.00000000e+00\n",
      "  0.00000000e+00  0.00000000e+00  0.00000000e+00  0.00000000e+00\n",
      "  7.10542736e-15  0.00000000e+00  0.00000000e+00  0.00000000e+00\n",
      " -7.10542736e-15  0.00000000e+00 -7.10542736e-15  0.00000000e+00\n",
      " -7.10542736e-15  0.00000000e+00  0.00000000e+00  0.00000000e+00\n",
      "  0.00000000e+00  0.00000000e+00  0.00000000e+00  0.00000000e+00\n",
      "  0.00000000e+00  0.00000000e+00  0.00000000e+00  7.10542736e-15\n",
      "  0.00000000e+00  7.10542736e-15  0.00000000e+00  0.00000000e+00\n",
      "  0.00000000e+00 -7.10542736e-15  0.00000000e+00 -7.10542736e-15\n",
      "  0.00000000e+00  0.00000000e+00  0.00000000e+00  0.00000000e+00\n",
      "  0.00000000e+00  0.00000000e+00  0.00000000e+00  0.00000000e+00\n",
      "  0.00000000e+00  0.00000000e+00  0.00000000e+00  3.55271368e-15\n",
      " -3.55271368e-15 -3.55271368e-15  0.00000000e+00 -3.55271368e-15\n",
      "  0.00000000e+00  0.00000000e+00  0.00000000e+00  0.00000000e+00\n",
      "  0.00000000e+00  0.00000000e+00  0.00000000e+00  0.00000000e+00\n",
      "  0.00000000e+00  0.00000000e+00  0.00000000e+00  0.00000000e+00\n",
      "  0.00000000e+00  1.77635684e-15 -1.77635684e-15  0.00000000e+00\n",
      "  0.00000000e+00  0.00000000e+00  0.00000000e+00  0.00000000e+00\n",
      "  0.00000000e+00  0.00000000e+00  0.00000000e+00  0.00000000e+00\n",
      "  8.88178420e-16  0.00000000e+00  0.00000000e+00  0.00000000e+00\n",
      "  4.44089210e-16  0.00000000e+00  0.00000000e+00  0.00000000e+00]\n"
     ]
    }
   ],
   "source": [
    "print(\"Test:\")\n",
    "print(Discrepancy(test_matrix, LUDecomposition(test_matrix)))\n",
    "\n",
    "matrix = original_matrix.copy()\n",
    "print(\"Невязка в задаче методом Гаусса:\")\n",
    "print(Discrepancy(matrix, LUDecomposition(matrix)))\n",
    "\n",
    "print(\"Невязка в задаче методом LU-разложения:\")\n",
    "print(Discrepancy(matrix, GaussMethodWithMaxElement(matrix)))"
   ]
  },
  {
   "cell_type": "markdown",
   "metadata": {},
   "source": [
    "# Итерационные методы"
   ]
  },
  {
   "cell_type": "code",
   "execution_count": 240,
   "metadata": {},
   "outputs": [],
   "source": [
    "max_iterations = 1000000\n",
    "eps = 0.000000000000001 # max error"
   ]
  },
  {
   "cell_type": "markdown",
   "metadata": {},
   "source": [
    "### Метод Зейделя"
   ]
  },
  {
   "cell_type": "code",
   "execution_count": 243,
   "metadata": {},
   "outputs": [
    {
     "data": {
      "image/png": "[encoded data removed]",
      "text/plain": [
       "<Figure size 640x480 with 1 Axes>"
      ]
     },
     "metadata": {},
     "output_type": "display_data"
    }
   ],
   "source": [
    "def LMatrix(matrix):\n",
    "    L = np.array([[0.0] * len(matrix)] * len(matrix))\n",
    "    for i in range(len(matrix)):\n",
    "        for j in range(i):\n",
    "            L[i][j] = matrix[i][j]\n",
    "    return L\n",
    "\n",
    "def DMatrix(matrix):\n",
    "    D = np.array([[0.0] * len(matrix)] * len(matrix))\n",
    "    for i in range(len(matrix)):\n",
    "        D[i][i] = matrix[i][i]\n",
    "    return D\n",
    "\n",
    "def UMatrix(matrix):\n",
    "    U = np.array([[0.0] * len(matrix)] * len(matrix))\n",
    "    for i in range(len(matrix)):\n",
    "        for j in range(i + 1, len(matrix)):\n",
    "            U[i][j] = matrix[i][j]\n",
    "    return U\n",
    "\n",
    "def InvMatrix(matrix):\n",
    "    if np.linalg.det(matrix) == 0:\n",
    "        print(\"Error! Inv matrix does not exist!\")\n",
    "        print(matrix)\n",
    "        return matrix * 0\n",
    "    return np.linalg.inv(matrix)\n",
    "\n",
    "def SeidelMethod(matrix, iterations):\n",
    "    x = np.array([0.0] * len(matrix))\n",
    "    minus_U = - UMatrix(matrix)\n",
    "    inv_L_D = InvMatrix(LMatrix(matrix) + DMatrix(matrix))\n",
    "    b = [matrix[i][-1] for i in range(len(matrix))]\n",
    "\n",
    "    if inv_L_D.any() == 0:\n",
    "        print(\"Error! inv_L_D does not exist\")\n",
    "        return\n",
    "    \n",
    "    for i in range(iterations):\n",
    "        x = np.matmul(inv_L_D, np.matmul(minus_U, x) + b)\n",
    "    return x\n",
    "\n",
    "# matrix = test_matrix\n",
    "iterations_number = 20\n",
    "matrix = original_matrix.copy()\n",
    "plt.plot(range(iterations_number), np.log(np.array([np.average(np.abs(Discrepancy(matrix, SeidelMethod(matrix, i))))\n",
    "                                        for i in range(iterations_number)])), marker = 'o')\n",
    "plt.xlabel('Итераций')\n",
    "plt.ylabel('Невязка')\n",
    "plt.title('Невязка по методу Зейделя')\n",
    "plt.show()\n"
   ]
  },
  {
   "cell_type": "markdown",
   "metadata": {},
   "source": [
    "### Метод Якоби"
   ]
  },
  {
   "cell_type": "code",
   "execution_count": null,
   "metadata": {},
   "outputs": [],
   "source": []
  }
 ],
 "metadata": {
  "kernelspec": {
   "display_name": "Python 3",
   "language": "python",
   "name": "python3"
  },
  "language_info": {
   "codemirror_mode": {
    "name": "ipython",
    "version": 3
   },
   "file_extension": ".py",
   "mimetype": "text/x-python",
   "name": "python",
   "nbconvert_exporter": "python",
   "pygments_lexer": "ipython3",
   "version": "3.8.10"
  }
 },
 "nbformat": 4,
 "nbformat_minor": 2
}
