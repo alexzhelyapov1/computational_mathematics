{
 "cells": [
  {
   "cell_type": "markdown",
   "metadata": {},
   "source": [
    "# Условия\n",
    "\n",
    "2 лаба: \n",
    "Аристова, Завьялова, Лобанов, II.10.6 , выбрать вариант самостоятельно. \n",
    "Решить СЛАУ .\n",
    "##### Прямыми методами:\n",
    "- [x] Методом Гаусса с выбором главного элемента\n",
    "- [ ] LU-разложением (если возможно) \n",
    "\n",
    "##### Итерационными методами: \n",
    "Метод Зейделя, Метод Якоби, Метод верхней релаксации \n",
    "\n",
    "Чтобы показать, что найденное решение true \n",
    "- для прямых методов: подставить решение в исходную систему и получить невязку ~ 0. \n",
    "- для итерационных методов: \n",
    "показать убывание невязки (график изменения невязки от числа итераций) . \n",
    "\n",
    "Дедлайн к 11 октября."
   ]
  },
  {
   "cell_type": "code",
   "execution_count": 47,
   "metadata": {},
   "outputs": [],
   "source": [
    "import numpy as np"
   ]
  },
  {
   "cell_type": "markdown",
   "metadata": {},
   "source": [
    "### Матрица СЛАУ (вариант \"г\")"
   ]
  },
  {
   "cell_type": "code",
   "execution_count": 48,
   "metadata": {},
   "outputs": [
    {
     "name": "stdout",
     "output_type": "stream",
     "text": [
      "Shapre of matrix = (100, 101)\n"
     ]
    },
    {
     "data": {
      "text/plain": [
       "array([[  1.,   1.,   1., ...,   1.,   1., 100.],\n",
       "       [  1.,  10.,   1., ...,   0.,   0.,  99.],\n",
       "       [  0.,   1.,  10., ...,   0.,   0.,  98.],\n",
       "       ...,\n",
       "       [  0.,   0.,   0., ...,   1.,   0.,   3.],\n",
       "       [  0.,   0.,   0., ...,  10.,   1.,   2.],\n",
       "       [  0.,   0.,   0., ...,   1.,   1.,   1.]])"
      ]
     },
     "execution_count": 48,
     "metadata": {},
     "output_type": "execute_result"
    }
   ],
   "source": [
    "matrix = np.array([[0.0] * 101] * 100)\n",
    "print(\"Shapre of matrix =\", np.shape(matrix))\n",
    "\n",
    "for i in range(100):\n",
    "    matrix[0][i] = 1\n",
    "\n",
    "for i in range(100):\n",
    "    matrix[i][100] = 100-i\n",
    "\n",
    "for i in range(1, 99):\n",
    "    matrix[i][i-1] = 1\n",
    "    matrix[i][i] = 10\n",
    "    matrix[i][i+1] = 1\n",
    "\n",
    "matrix[99][98] = 1\n",
    "matrix[99][99] = 1\n",
    "\n",
    "matrix"
   ]
  },
  {
   "cell_type": "markdown",
   "metadata": {},
   "source": [
    "### Метод Гаусса с выбором главного элемента"
   ]
  },
  {
   "cell_type": "code",
   "execution_count": 49,
   "metadata": {},
   "outputs": [],
   "source": [
    "def FindLineWithMaxElemBelowCurrentLine(matrix, line):\n",
    "    max_elem = 0\n",
    "    max_line = 0\n",
    "    for i in range(line, len(matrix)):\n",
    "        for j in range(matrix[i]):\n",
    "            if abs(matrix[i][j]) > max_elem:\n",
    "                max_elem = abs(matrix[i][j])\n",
    "                max_line = i\n",
    "    return max_line\n",
    "\n",
    "def ZeroingLinesBelowCurrentLine(matrix, line):\n",
    "    if matrix[line][line] == 0:\n",
    "        return\n",
    "    for line_below in range(line + 1, len(matrix)):\n",
    "        k = matrix[line_below][line] / matrix[line][line]\n",
    "        matrix[line_below] -= k * matrix[line]\n",
    "\n",
    "def ZeroingLinesAboveCurrentLine(matrix, line):\n",
    "    if matrix[line][line] == 0:\n",
    "        return\n",
    "    for line_above in range(line - 1, -1, -1):\n",
    "        k = matrix[line_above][line] / matrix[line][line]\n",
    "        matrix[line_above] -= k * matrix[line]\n",
    "\n",
    "def GaussMethodWithMaxElement(matrix):\n",
    "    for line in range(len(matrix)):\n",
    "        ZeroingLinesBelowCurrentLine(matrix, line)\n",
    "    for line in range(len(matrix) - 1, -1, -1):\n",
    "        ZeroingLinesAboveCurrentLine(matrix, line)\n",
    "\n",
    "def ExtractSolutionFromNormalizedMatrix(matrix):\n",
    "    x = np.array([0.0] * (len(matrix[0]) - 1))\n",
    "    for line in range(len(matrix)):\n",
    "        if matrix[line][line] == 0:\n",
    "            if matrix[line][-1] != 0:\n",
    "                print(\"Нет решений\")\n",
    "                return []\n",
    "            x[line] = np.nan\n",
    "        else:\n",
    "            x[line] = matrix[line][-1] / matrix[line][line]\n",
    "    return x"
   ]
  },
  {
   "cell_type": "markdown",
   "metadata": {},
   "source": [
    "### Тестирование метода"
   ]
  },
  {
   "cell_type": "code",
   "execution_count": 50,
   "metadata": {},
   "outputs": [
    {
     "name": "stdout",
     "output_type": "stream",
     "text": [
      "[[1. 2. 3. 7.]\n",
      " [2. 1. 3. 8.]\n",
      " [1. 1. 1. 4.]]\n",
      "[[ 1.  0.  0.  2.]\n",
      " [ 0. -3.  0. -3.]\n",
      " [ 0.  0. -1. -1.]]\n",
      "Решение:  [2. 1. 1.]\n"
     ]
    }
   ],
   "source": [
    "test_matrix = np.array([[1.0, 2.0, 3.0, 7.0], [2.0, 1.0, 3.0, 8.0], [1, 1, 1, 4]])\n",
    "\n",
    "print(test_matrix)\n",
    "GaussMethodWithMaxElement(test_matrix)\n",
    "print(test_matrix)\n",
    "print(\"Решение: \", ExtractSolutionFromNormalizedMatrix(test_matrix))"
   ]
  },
  {
   "cell_type": "markdown",
   "metadata": {},
   "source": [
    "### Решение задачи"
   ]
  },
  {
   "cell_type": "code",
   "execution_count": 51,
   "metadata": {},
   "outputs": [
    {
     "name": "stdout",
     "output_type": "stream",
     "text": [
      "Решение:  [-3.45745028e+02  4.40191782e+01  4.55324589e+00  8.44836296e+00\n",
      "  7.96312452e+00  7.92039185e+00  7.83295701e+00  7.75003802e+00\n",
      "  7.66666283e+00  7.58333372e+00  7.49999996e+00  7.41666667e+00\n",
      "  7.33333333e+00  7.25000000e+00  7.16666667e+00  7.08333333e+00\n",
      "  7.00000000e+00  6.91666667e+00  6.83333333e+00  6.75000000e+00\n",
      "  6.66666667e+00  6.58333333e+00  6.50000000e+00  6.41666667e+00\n",
      "  6.33333333e+00  6.25000000e+00  6.16666667e+00  6.08333333e+00\n",
      "  6.00000000e+00  5.91666667e+00  5.83333333e+00  5.75000000e+00\n",
      "  5.66666667e+00  5.58333333e+00  5.50000000e+00  5.41666667e+00\n",
      "  5.33333333e+00  5.25000000e+00  5.16666667e+00  5.08333333e+00\n",
      "  5.00000000e+00  4.91666667e+00  4.83333333e+00  4.75000000e+00\n",
      "  4.66666667e+00  4.58333333e+00  4.50000000e+00  4.41666667e+00\n",
      "  4.33333333e+00  4.25000000e+00  4.16666667e+00  4.08333333e+00\n",
      "  4.00000000e+00  3.91666667e+00  3.83333333e+00  3.75000000e+00\n",
      "  3.66666667e+00  3.58333333e+00  3.50000000e+00  3.41666667e+00\n",
      "  3.33333333e+00  3.25000000e+00  3.16666667e+00  3.08333333e+00\n",
      "  3.00000000e+00  2.91666667e+00  2.83333333e+00  2.75000000e+00\n",
      "  2.66666667e+00  2.58333333e+00  2.50000000e+00  2.41666667e+00\n",
      "  2.33333333e+00  2.25000000e+00  2.16666667e+00  2.08333333e+00\n",
      "  2.00000000e+00  1.91666667e+00  1.83333333e+00  1.75000000e+00\n",
      "  1.66666667e+00  1.58333333e+00  1.50000000e+00  1.41666667e+00\n",
      "  1.33333333e+00  1.25000000e+00  1.16666667e+00  1.08333333e+00\n",
      "  1.00000000e+00  9.16666667e-01  8.33333332e-01  7.50000009e-01\n",
      "  6.66666577e-01  5.83334220e-01  4.99991223e-01  4.16753553e-01\n",
      "  3.32473251e-01  2.58513941e-01  8.23873399e-02  9.17612660e-01]\n"
     ]
    }
   ],
   "source": [
    "GaussMethodWithMaxElement(matrix)\n",
    "print(\"Решение: \", ExtractSolutionFromNormalizedMatrix(matrix))"
   ]
  },
  {
   "cell_type": "markdown",
   "metadata": {},
   "source": [
    "### Метод LU-разложения"
   ]
  },
  {
   "cell_type": "code",
   "execution_count": 57,
   "metadata": {},
   "outputs": [
    {
     "name": "stdout",
     "output_type": "stream",
     "text": [
      "(3, 4) (3, 4)\n",
      "[[1. 0. 0. 0.]\n",
      " [0. 1. 0. 0.]\n",
      " [0. 0. 1. 0.]]\n",
      "[[0. 0. 0. 0.]\n",
      " [0. 0. 0. 0.]\n",
      " [0. 0. 0. 0.]]\n",
      "--------------\n",
      "Range matrix:  3\n",
      "[[ 1.          0.          0.          0.        ]\n",
      " [-0.3         1.          0.          0.        ]\n",
      " [ 0.5         0.64102564  1.          0.        ]]\n",
      "[[10.         -7.          0.          0.        ]\n",
      " [ 0.          3.9         2.          0.        ]\n",
      " [ 0.          0.          3.71794872  0.        ]]\n"
     ]
    }
   ],
   "source": [
    "def LUDecomposition(matrix):\n",
    "    L = np.array([[0.0] * len(matrix[0])] * len(matrix))\n",
    "    U = L.copy()\n",
    "    print(np.shape(L), np.shape(U))\n",
    "\n",
    "    for i in range(len(matrix)):\n",
    "        L[i][i] = 1\n",
    "\n",
    "    for i in range(len(matrix)):\n",
    "        for j in range(len(matrix)):\n",
    "            if i <= j:\n",
    "                sum = 0\n",
    "                for k in range(i):\n",
    "                    sum += L[i][k] * U[k][j]\n",
    "                U[i][j] = matrix[i][j] - sum\n",
    "            if i > j:\n",
    "                sum = 0\n",
    "                for k in range(j):\n",
    "                    sum += L[i][k] * U[k][j]\n",
    "                if U[j][j] == 0:\n",
    "                    L[i][j] = np.nan\n",
    "                    print(\"Error! Can't do LU-decomposition\")\n",
    "                    return\n",
    "                L[i][j] = (matrix[i][j] - sum) / U[j][j]\n",
    "    print(L)\n",
    "    print(U)\n",
    "\n",
    "    \n",
    "\n",
    "test_matrix = np.array([[10.0, -7.0, 0.0, 7.0], [-3.0, 6.0, 2.0, 8.0], [5.0, -1.0, 5.0, 4]])\n",
    "LUDecomposition(test_matrix)"
   ]
  },
  {
   "cell_type": "markdown",
   "metadata": {},
   "source": [
    "### Тестирование метода"
   ]
  },
  {
   "cell_type": "code",
   "execution_count": 53,
   "metadata": {},
   "outputs": [],
   "source": [
    "test_matrix = np.array([[10.0, -7.0, 0.0], [-3.0, 6.0, 2.0], [5.0, -1.0, 5.0]])"
   ]
  }
 ],
 "metadata": {
  "kernelspec": {
   "display_name": "Python 3",
   "language": "python",
   "name": "python3"
  },
  "language_info": {
   "codemirror_mode": {
    "name": "ipython",
    "version": 3
   },
   "file_extension": ".py",
   "mimetype": "text/x-python",
   "name": "python",
   "nbconvert_exporter": "python",
   "pygments_lexer": "ipython3",
   "version": "3.8.10"
  }
 },
 "nbformat": 4,
 "nbformat_minor": 2
}
